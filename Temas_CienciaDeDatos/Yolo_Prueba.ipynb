{
  "cells": [
    {
      "cell_type": "markdown",
      "metadata": {
        "id": "view-in-github",
        "colab_type": "text"
      },
      "source": [
        "<a href=\"https://colab.research.google.com/github/Oscar2401/MCE-CIMAT/blob/main/Temas_CienciaDeDatos/Yolo_Prueba.ipynb\" target=\"_parent\"><img src=\"https://colab.research.google.com/assets/colab-badge.svg\" alt=\"Open In Colab\"/></a>"
      ]
    },
    {
      "cell_type": "markdown",
      "metadata": {
        "id": "WoGshKfaHNU3"
      },
      "source": [
        "# __Instalación__"
      ]
    },
    {
      "cell_type": "markdown",
      "metadata": {
        "id": "XC_yeiFX2Co1"
      },
      "source": [
        "## YoloV5"
      ]
    },
    {
      "cell_type": "code",
      "execution_count": 3,
      "metadata": {
        "id": "13J9eAPSGqO7",
        "colab": {
          "base_uri": "https://localhost:8080/"
        },
        "outputId": "52afef6a-85da-4c86-d76f-505e1fc1feec"
      },
      "outputs": [
        {
          "output_type": "stream",
          "name": "stdout",
          "text": [
            "Drive already mounted at /content/drive; to attempt to forcibly remount, call drive.mount(\"/content/drive\", force_remount=True).\n"
          ]
        }
      ],
      "source": [
        "from google.colab import drive\n",
        "drive.mount('/content/drive')"
      ]
    },
    {
      "cell_type": "code",
      "execution_count": 4,
      "metadata": {
        "colab": {
          "base_uri": "https://localhost:8080/"
        },
        "id": "rXNt0JnWFSc9",
        "outputId": "abbc3e57-3315-4a92-bd3a-038fe4455378"
      },
      "outputs": [
        {
          "output_type": "stream",
          "name": "stdout",
          "text": [
            "/content/drive/My Drive/tesis/YOLO\n"
          ]
        }
      ],
      "source": [
        "%cd \"/content/drive/My Drive/tesis/YOLO\""
      ]
    },
    {
      "cell_type": "markdown",
      "metadata": {
        "id": "yvVMQpArTMGb"
      },
      "source": [
        "!git clone https://github.com/ultralytics/yolov5  # clone"
      ]
    },
    {
      "cell_type": "code",
      "execution_count": 5,
      "metadata": {
        "colab": {
          "base_uri": "https://localhost:8080/"
        },
        "id": "3JAf8N3BG7vW",
        "outputId": "527c5eeb-94ad-4d71-d4a1-234456a7f7bd"
      },
      "outputs": [
        {
          "output_type": "stream",
          "name": "stdout",
          "text": [
            "/content/drive/My Drive/tesis/YOLO/yolov5\n",
            "/content/drive/My Drive/tesis/YOLO\n"
          ]
        }
      ],
      "source": [
        "# Corremos esto para actualizar y descargar las \n",
        "# librerias requeridas dentr del directorio yolov5\n",
        "%cd \"/content/drive/My Drive/tesis/YOLO/yolov5\"\n",
        "%pip install -qr requirements.txt  # install\n",
        "%cd \"/content/drive/My Drive/tesis/YOLO\""
      ]
    },
    {
      "cell_type": "code",
      "execution_count": 6,
      "metadata": {
        "colab": {
          "base_uri": "https://localhost:8080/"
        },
        "id": "oCPcAjZtHCCi",
        "outputId": "97510e4b-1e5f-475d-8cd8-4717e0f5f18e"
      },
      "outputs": [
        {
          "output_type": "stream",
          "name": "stderr",
          "text": [
            "YOLOv5 🚀 2022-9-16 Python-3.7.14 torch-1.12.1+cu113 CUDA:0 (Tesla T4, 15110MiB)\n"
          ]
        },
        {
          "output_type": "stream",
          "name": "stdout",
          "text": [
            "Setup complete ✅ (2 CPUs, 12.7 GB RAM, 37.6/78.2 GB disk)\n",
            "/content/drive/My Drive/tesis/YOLO\n"
          ]
        }
      ],
      "source": [
        "%cd \"/content/drive/My Drive/tesis/YOLO/yolov5\"\n",
        "import torch\n",
        "import utils\n",
        "display = utils.notebook_init()  # checks\n",
        "%cd \"/content/drive/My Drive/tesis/YOLO\""
      ]
    },
    {
      "cell_type": "code",
      "execution_count": 7,
      "metadata": {
        "colab": {
          "base_uri": "https://localhost:8080/"
        },
        "id": "Nd4sO89D2ONE",
        "outputId": "4a5f8fec-1cd4-45d4-ab16-3444efa516fa"
      },
      "outputs": [
        {
          "output_type": "stream",
          "name": "stdout",
          "text": [
            "torch 1.12.1+cu113 _CudaDeviceProperties(name='Tesla T4', major=7, minor=5, total_memory=15109MB, multi_processor_count=40)\n"
          ]
        }
      ],
      "source": [
        "\n",
        "# Chequeo de dispositivo GPU o CPU\n",
        "print('torch %s %s' % (torch.__version__, \n",
        "                       torch.cuda.get_device_properties(0) if torch.cuda.is_available() else 'CPU'))"
      ]
    },
    {
      "cell_type": "markdown",
      "metadata": {
        "id": "O5S--mIb17in"
      },
      "source": [
        "## Descargar Datos"
      ]
    },
    {
      "cell_type": "code",
      "execution_count": null,
      "metadata": {
        "id": "0tms7nNg2Bvc"
      },
      "outputs": [],
      "source": [
        "!pip install roboflow\n",
        "\n",
        "from roboflow import Roboflow\n",
        "%cd \"/content/drive/My Drive/tesis/YOLO/\"\n",
        "rf = Roboflow(api_key=\"H2INZriXPwrRnfcGorvA\")\n",
        "project = rf.workspace(\"hojasamarillas\").project(\"ext-hojas-amarillas\")\n",
        "dataset = project.version(5).download(\"yolov5\")"
      ]
    },
    {
      "cell_type": "markdown",
      "metadata": {
        "id": "TsTvcLujKLTW"
      },
      "source": [
        "# __Entrenamiento__"
      ]
    },
    {
      "cell_type": "code",
      "execution_count": 10,
      "metadata": {
        "colab": {
          "base_uri": "https://localhost:8080/"
        },
        "id": "SGfnKYiNJNxu",
        "outputId": "09aa05aa-a412-473b-fa1f-4f241fd78dcb"
      },
      "outputs": [
        {
          "output_type": "stream",
          "name": "stdout",
          "text": [
            "\u001b[34m\u001b[1mtrain: \u001b[0mweights=yolov5s.pt, cfg=, data=/content/drive/MyDrive/tesis/YOLO/Ext-HOJAS-AMARILLAS-5/data.yaml, hyp=yolov5/data/hyps/hyp.scratch-low.yaml, epochs=10, batch_size=16, imgsz=640, rect=False, resume=False, nosave=False, noval=False, noautoanchor=False, noplots=False, evolve=None, bucket=, cache=None, image_weights=False, device=, multi_scale=False, single_cls=False, optimizer=SGD, sync_bn=False, workers=8, project=yolov5/runs/train, name=/content/drive/MyDrive/tesis/YOLO/outtrain, exist_ok=False, quad=False, cos_lr=False, label_smoothing=0.0, patience=100, freeze=[0], save_period=-1, seed=0, local_rank=-1, entity=None, upload_dataset=False, bbox_interval=-1, artifact_alias=latest\n",
            "\u001b[34m\u001b[1mgithub: \u001b[0m⚠️ YOLOv5 is out of date by 42 commits. Use `git pull` or `git clone https://github.com/ultralytics/yolov5` to update.\n",
            "YOLOv5 🚀 v6.2-117-ga1e5f9a Python-3.7.14 torch-1.12.1+cu113 CUDA:0 (Tesla T4, 15110MiB)\n",
            "\n",
            "\u001b[34m\u001b[1mhyperparameters: \u001b[0mlr0=0.01, lrf=0.01, momentum=0.937, weight_decay=0.0005, warmup_epochs=3.0, warmup_momentum=0.8, warmup_bias_lr=0.1, box=0.05, cls=0.5, cls_pw=1.0, obj=1.0, obj_pw=1.0, iou_t=0.2, anchor_t=4.0, fl_gamma=0.0, hsv_h=0.015, hsv_s=0.7, hsv_v=0.4, degrees=0.0, translate=0.1, scale=0.5, shear=0.0, perspective=0.0, flipud=0.0, fliplr=0.5, mosaic=1.0, mixup=0.0, copy_paste=0.0\n",
            "\u001b[34m\u001b[1mWeights & Biases: \u001b[0mrun 'pip install wandb' to automatically track and visualize YOLOv5 🚀 runs in Weights & Biases\n",
            "\u001b[34m\u001b[1mClearML: \u001b[0mrun 'pip install clearml' to automatically track, visualize and remotely train YOLOv5 🚀 in ClearML\n",
            "\u001b[34m\u001b[1mComet: \u001b[0mrun 'pip install comet_ml' to automatically track and visualize YOLOv5 🚀 runs in Comet\n",
            "\u001b[34m\u001b[1mTensorBoard: \u001b[0mStart with 'tensorboard --logdir /content/drive/MyDrive/tesis/YOLO', view at http://localhost:6006/\n",
            "Overriding model.yaml nc=80 with nc=4\n",
            "\n",
            "                 from  n    params  module                                  arguments                     \n",
            "  0                -1  1      3520  models.common.Conv                      [3, 32, 6, 2, 2]              \n",
            "  1                -1  1     18560  models.common.Conv                      [32, 64, 3, 2]                \n",
            "  2                -1  1     18816  models.common.C3                        [64, 64, 1]                   \n",
            "  3                -1  1     73984  models.common.Conv                      [64, 128, 3, 2]               \n",
            "  4                -1  2    115712  models.common.C3                        [128, 128, 2]                 \n",
            "  5                -1  1    295424  models.common.Conv                      [128, 256, 3, 2]              \n",
            "  6                -1  3    625152  models.common.C3                        [256, 256, 3]                 \n",
            "  7                -1  1   1180672  models.common.Conv                      [256, 512, 3, 2]              \n",
            "  8                -1  1   1182720  models.common.C3                        [512, 512, 1]                 \n",
            "  9                -1  1    656896  models.common.SPPF                      [512, 512, 5]                 \n",
            " 10                -1  1    131584  models.common.Conv                      [512, 256, 1, 1]              \n",
            " 11                -1  1         0  torch.nn.modules.upsampling.Upsample    [None, 2, 'nearest']          \n",
            " 12           [-1, 6]  1         0  models.common.Concat                    [1]                           \n",
            " 13                -1  1    361984  models.common.C3                        [512, 256, 1, False]          \n",
            " 14                -1  1     33024  models.common.Conv                      [256, 128, 1, 1]              \n",
            " 15                -1  1         0  torch.nn.modules.upsampling.Upsample    [None, 2, 'nearest']          \n",
            " 16           [-1, 4]  1         0  models.common.Concat                    [1]                           \n",
            " 17                -1  1     90880  models.common.C3                        [256, 128, 1, False]          \n",
            " 18                -1  1    147712  models.common.Conv                      [128, 128, 3, 2]              \n",
            " 19          [-1, 14]  1         0  models.common.Concat                    [1]                           \n",
            " 20                -1  1    296448  models.common.C3                        [256, 256, 1, False]          \n",
            " 21                -1  1    590336  models.common.Conv                      [256, 256, 3, 2]              \n",
            " 22          [-1, 10]  1         0  models.common.Concat                    [1]                           \n",
            " 23                -1  1   1182720  models.common.C3                        [512, 512, 1, False]          \n",
            " 24      [17, 20, 23]  1     24273  models.yolo.Detect                      [4, [[10, 13, 16, 30, 33, 23], [30, 61, 62, 45, 59, 119], [116, 90, 156, 198, 373, 326]], [128, 256, 512]]\n",
            "Model summary: 214 layers, 7030417 parameters, 7030417 gradients, 16.0 GFLOPs\n",
            "\n",
            "Transferred 343/349 items from yolov5s.pt\n",
            "\u001b[34m\u001b[1mAMP: \u001b[0mchecks passed ✅\n",
            "\u001b[34m\u001b[1moptimizer:\u001b[0m SGD(lr=0.01) with parameter groups 57 weight(decay=0.0), 60 weight(decay=0.0005), 60 bias\n",
            "\u001b[34m\u001b[1malbumentations: \u001b[0mBlur(p=0.01, blur_limit=(3, 7)), MedianBlur(p=0.01, blur_limit=(3, 7)), ToGray(p=0.01), CLAHE(p=0.01, clip_limit=(1, 4.0), tile_grid_size=(8, 8))\n",
            "\u001b[34m\u001b[1mtrain: \u001b[0mScanning '/content/drive/MyDrive/tesis/YOLO/Ext-HOJAS-AMARILLAS-5/train/labels.cache' images and labels... 603 found, 0 missing, 0 empty, 0 corrupt: 100% 603/603 [00:00<?, ?it/s]\n",
            "\u001b[34m\u001b[1mval: \u001b[0mScanning '/content/drive/MyDrive/tesis/YOLO/Ext-HOJAS-AMARILLAS-5/valid/labels.cache' images and labels... 112 found, 0 missing, 2 empty, 0 corrupt: 100% 112/112 [00:00<?, ?it/s]\n",
            "\n",
            "\u001b[34m\u001b[1mAutoAnchor: \u001b[0m2.17 anchors/target, 1.000 Best Possible Recall (BPR). Current anchors are a good fit to dataset ✅\n",
            "Plotting labels to /content/drive/MyDrive/tesis/YOLO/outtrain2/labels.jpg... \n",
            "Image sizes 640 train, 640 val\n",
            "Using 2 dataloader workers\n",
            "Logging results to \u001b[1m/content/drive/MyDrive/tesis/YOLO/outtrain2\u001b[0m\n",
            "Starting training for 10 epochs...\n",
            "\n",
            "      Epoch    GPU_mem   box_loss   obj_loss   cls_loss  Instances       Size\n",
            "        0/9      4.68G    0.09728    0.05337    0.04455         93        640: 100% 38/38 [02:44<00:00,  4.32s/it]\n",
            "                 Class     Images  Instances          P          R      mAP50   mAP50-95: 100% 4/4 [00:07<00:00,  1.92s/it]\n",
            "                   all        112        440     0.0177      0.286     0.0723     0.0225\n",
            "\n",
            "      Epoch    GPU_mem   box_loss   obj_loss   cls_loss  Instances       Size\n",
            "        1/9       4.7G    0.06673    0.05759    0.02923         98        640: 100% 38/38 [01:30<00:00,  2.37s/it]\n",
            "                 Class     Images  Instances          P          R      mAP50   mAP50-95: 100% 4/4 [00:02<00:00,  1.71it/s]\n",
            "                   all        112        440      0.143      0.432      0.212     0.0631\n",
            "\n",
            "      Epoch    GPU_mem   box_loss   obj_loss   cls_loss  Instances       Size\n",
            "        2/9       4.7G    0.06372    0.04526    0.02049        103        640: 100% 38/38 [01:38<00:00,  2.59s/it]\n",
            "                 Class     Images  Instances          P          R      mAP50   mAP50-95: 100% 4/4 [00:02<00:00,  1.88it/s]\n",
            "                   all        112        440      0.343      0.616      0.399      0.172\n",
            "\n",
            "      Epoch    GPU_mem   box_loss   obj_loss   cls_loss  Instances       Size\n",
            "        3/9       4.7G    0.05751    0.03956    0.01538        112        640: 100% 38/38 [01:38<00:00,  2.59s/it]\n",
            "                 Class     Images  Instances          P          R      mAP50   mAP50-95: 100% 4/4 [00:02<00:00,  1.86it/s]\n",
            "                   all        112        440      0.498      0.852       0.66      0.255\n",
            "\n",
            "      Epoch    GPU_mem   box_loss   obj_loss   cls_loss  Instances       Size\n",
            "        4/9       4.7G    0.05196    0.03574    0.01194         90        640: 100% 38/38 [01:38<00:00,  2.59s/it]\n",
            "                 Class     Images  Instances          P          R      mAP50   mAP50-95: 100% 4/4 [00:01<00:00,  2.12it/s]\n",
            "                   all        112        440       0.71      0.861      0.857      0.309\n",
            "\n",
            "      Epoch    GPU_mem   box_loss   obj_loss   cls_loss  Instances       Size\n",
            "        5/9       4.7G    0.04498    0.03361   0.008598        101        640: 100% 38/38 [01:37<00:00,  2.58s/it]\n",
            "                 Class     Images  Instances          P          R      mAP50   mAP50-95: 100% 4/4 [00:01<00:00,  2.13it/s]\n",
            "                   all        112        440      0.866      0.987      0.954      0.451\n",
            "\n",
            "      Epoch    GPU_mem   box_loss   obj_loss   cls_loss  Instances       Size\n",
            "        6/9       4.7G    0.03981    0.03255     0.0068        113        640: 100% 38/38 [01:38<00:00,  2.59s/it]\n",
            "                 Class     Images  Instances          P          R      mAP50   mAP50-95: 100% 4/4 [00:02<00:00,  1.97it/s]\n",
            "                   all        112        440      0.925      0.992      0.988      0.589\n",
            "\n",
            "      Epoch    GPU_mem   box_loss   obj_loss   cls_loss  Instances       Size\n",
            "        7/9       4.7G    0.03534    0.03019   0.005792         85        640: 100% 38/38 [01:37<00:00,  2.58s/it]\n",
            "                 Class     Images  Instances          P          R      mAP50   mAP50-95: 100% 4/4 [00:01<00:00,  2.14it/s]\n",
            "                   all        112        440      0.979      0.996      0.988      0.482\n",
            "\n",
            "      Epoch    GPU_mem   box_loss   obj_loss   cls_loss  Instances       Size\n",
            "        8/9       4.7G     0.0321    0.02762   0.004317         82        640: 100% 38/38 [01:38<00:00,  2.60s/it]\n",
            "                 Class     Images  Instances          P          R      mAP50   mAP50-95: 100% 4/4 [00:01<00:00,  2.05it/s]\n",
            "                   all        112        440      0.983          1      0.991      0.563\n",
            "\n",
            "      Epoch    GPU_mem   box_loss   obj_loss   cls_loss  Instances       Size\n",
            "        9/9       4.7G    0.02918    0.02764   0.004073         90        640: 100% 38/38 [01:38<00:00,  2.60s/it]\n",
            "                 Class     Images  Instances          P          R      mAP50   mAP50-95: 100% 4/4 [00:01<00:00,  2.14it/s]\n",
            "                   all        112        440      0.981          1      0.989      0.747\n",
            "\n",
            "10 epochs completed in 0.302 hours.\n",
            "Optimizer stripped from /content/drive/MyDrive/tesis/YOLO/outtrain2/weights/last.pt, 14.4MB\n",
            "Optimizer stripped from /content/drive/MyDrive/tesis/YOLO/outtrain2/weights/best.pt, 14.4MB\n",
            "\n",
            "Validating /content/drive/MyDrive/tesis/YOLO/outtrain2/weights/best.pt...\n",
            "Fusing layers... \n",
            "Model summary: 157 layers, 7020913 parameters, 0 gradients, 15.8 GFLOPs\n",
            "                 Class     Images  Instances          P          R      mAP50   mAP50-95: 100% 4/4 [00:10<00:00,  2.58s/it]\n",
            "                   all        112        440      0.981          1      0.989      0.747\n",
            "              Autopsia        112        110      0.982          1      0.986      0.745\n",
            "             Generales        112        110      0.981          1      0.991      0.787\n",
            "               Ingreso        112        110      0.981          1      0.993      0.782\n",
            "                 NoExp        112        110      0.982          1      0.988      0.675\n",
            "Results saved to \u001b[1m/content/drive/MyDrive/tesis/YOLO/outtrain2\u001b[0m\n"
          ]
        }
      ],
      "source": [
        "tarin = \"/content/drive/MyDrive/tesis/YOLO/yolov5/train.py\"\n",
        "data = \"/content/drive/MyDrive/tesis/YOLO/Ext-HOJAS-AMARILLAS-5/data.yaml\"\n",
        "output = \"/content/drive/MyDrive/tesis/YOLO/outtrain\"\n",
        "!python $tarin --img 640 --batch 16 --epochs 10 --data $data --weights yolov5s.pt --name $output"
      ]
    },
    {
      "cell_type": "markdown",
      "metadata": {
        "id": "qFh9AjVClH2H"
      },
      "source": [
        "# __Prueba__"
      ]
    },
    {
      "cell_type": "code",
      "execution_count": null,
      "metadata": {
        "colab": {
          "base_uri": "https://localhost:8080/"
        },
        "id": "VJRE5zqblRjf",
        "outputId": "072f81c2-5bc0-4a63-e82d-80e98d815efa"
      },
      "outputs": [
        {
          "name": "stdout",
          "output_type": "stream",
          "text": [
            "\u001b[34m\u001b[1mdetect: \u001b[0mweights=['/content/drive/MyDrive/tesis/YOLO/yolov5/runs/train/exp2/weights/best.pt'], source=/content/drive/MyDrive/tesis/YOLO/Ext-HOJAS-AMARILLAS-2/test/images, data=yolov5/data/coco128.yaml, imgsz=[416, 416], conf_thres=0.4, iou_thres=0.45, max_det=1000, device=, view_img=False, save_txt=False, save_conf=False, save_crop=False, nosave=False, classes=None, agnostic_nms=False, augment=False, visualize=False, update=False, project=yolov5/runs/detect, name=exp, exist_ok=False, line_thickness=3, hide_labels=False, hide_conf=False, half=False, dnn=False, vid_stride=1\n",
            "YOLOv5 🚀 v6.2-117-ga1e5f9a Python-3.7.14 torch-1.12.1+cu113 CUDA:0 (Tesla T4, 15110MiB)\n",
            "\n",
            "Fusing layers... \n",
            "Model summary: 157 layers, 7018216 parameters, 0 gradients, 15.8 GFLOPs\n",
            "image 1/26 /content/drive/MyDrive/tesis/YOLO/Ext-HOJAS-AMARILLAS-2/test/images/SEMEFO-DF-Hojas_Amarillas_1976-11_noviembre_pg-375_jpg.rf.51be0990290a6e0e5493f85307539b23.jpg: 416x416 1 Autopsia, 1 Generales, 1 Ingreso, 9.1ms\n",
            "image 2/26 /content/drive/MyDrive/tesis/YOLO/Ext-HOJAS-AMARILLAS-2/test/images/SEMEFO-DF-Hojas_Amarillas_1976-11_noviembre_pg-396_jpg.rf.650616b8dda7f447933d5ef12fac5e54.jpg: 416x416 1 Autopsia, 1 Generales, 1 Ingreso, 9.1ms\n",
            "image 3/26 /content/drive/MyDrive/tesis/YOLO/Ext-HOJAS-AMARILLAS-2/test/images/SEMEFO-DF-Hojas_Amarillas_1976-11_noviembre_pg-407_jpg.rf.c64ca81d37f492110daf70adbe71e1a2.jpg: 416x416 (no detections), 9.1ms\n",
            "image 4/26 /content/drive/MyDrive/tesis/YOLO/Ext-HOJAS-AMARILLAS-2/test/images/SEMEFO-DF-Hojas_amarillas_1974-01_enero-B_pg-148_jpg.rf.969a07ccf2b75844b2764cfad0f69cc1.jpg: 416x416 1 Autopsia, 1 Generales, 1 Ingreso, 13.7ms\n",
            "image 5/26 /content/drive/MyDrive/tesis/YOLO/Ext-HOJAS-AMARILLAS-2/test/images/SEMEFO-DF-Hojas_amarillas_1974-11_noviembre_pg-254_jpg.rf.c8cc80221681a1e88251398f87b15d82.jpg: 416x416 1 Autopsia, 1 Generales, 1 Ingreso, 8.5ms\n",
            "image 6/26 /content/drive/MyDrive/tesis/YOLO/Ext-HOJAS-AMARILLAS-2/test/images/SEMEFO-DF-Hojas_amarillas_1974-11_noviembre_pg-489_jpg.rf.c66ef5efbf65344e9966a4e1f694ef0d.jpg: 416x416 1 Autopsia, 1 Generales, 1 Ingreso, 8.6ms\n",
            "image 7/26 /content/drive/MyDrive/tesis/YOLO/Ext-HOJAS-AMARILLAS-2/test/images/SEMEFO-DF-Hojas_amarillas_1974-11_noviembre_pg-536_jpg.rf.4e927d4ed015526a0ce3c3c6cc265cc7.jpg: 416x416 1 Autopsia, 1 Generales, 1 Ingreso, 8.7ms\n",
            "image 8/26 /content/drive/MyDrive/tesis/YOLO/Ext-HOJAS-AMARILLAS-2/test/images/SEMEFO-DF-Hojas_amarillas_1975-02_febrero_pg-109_jpg.rf.f4998149b798c7291deb555a0f1c60fa.jpg: 416x416 (no detections), 9.1ms\n",
            "image 9/26 /content/drive/MyDrive/tesis/YOLO/Ext-HOJAS-AMARILLAS-2/test/images/SEMEFO-DF-Hojas_amarillas_1975-02_febrero_pg-118_jpg.rf.c11f0c70fe0174d7fb6f7506ca80cffc.jpg: 416x416 1 Autopsia, 1 Generales, 1 Ingreso, 8.4ms\n",
            "image 10/26 /content/drive/MyDrive/tesis/YOLO/Ext-HOJAS-AMARILLAS-2/test/images/SEMEFO-DF-Hojas_amarillas_1975-02_febrero_pg-411_jpg.rf.886bd5d160f41e8e17e0cbb62104afc5.jpg: 416x416 1 Autopsia, 1 Generales, 1 Ingreso, 8.6ms\n",
            "image 11/26 /content/drive/MyDrive/tesis/YOLO/Ext-HOJAS-AMARILLAS-2/test/images/SEMEFO-DF-Hojas_amarillas_1976-04_abril_pg-170_jpg.rf.f9404d14bbaacae10c9ef88243b8b45f.jpg: 416x416 1 Autopsia, 1 Generales, 1 Ingreso, 8.4ms\n",
            "image 12/26 /content/drive/MyDrive/tesis/YOLO/Ext-HOJAS-AMARILLAS-2/test/images/SEMEFO-DF-Hojas_amarillas_1976-04_abril_pg-248_jpg.rf.49e001848eeffe1b95ffabcfd57842ce.jpg: 416x416 1 Autopsia, 1 Generales, 1 Ingreso, 14.3ms\n",
            "image 13/26 /content/drive/MyDrive/tesis/YOLO/Ext-HOJAS-AMARILLAS-2/test/images/SEMEFO-DF-Hojas_amarillas_1976-04_abril_pg-317_jpg.rf.9ec74a8f96837f78071bb9252e7e3b6d.jpg: 416x416 (no detections), 9.8ms\n",
            "image 14/26 /content/drive/MyDrive/tesis/YOLO/Ext-HOJAS-AMARILLAS-2/test/images/SEMEFO-DF-Hojas_amarillas_1976-04_abril_pg-320_jpg.rf.291980571e6905484375a380e12cb2d6.jpg: 416x416 1 Autopsia, 1 Generales, 1 Ingreso, 10.2ms\n",
            "image 15/26 /content/drive/MyDrive/tesis/YOLO/Ext-HOJAS-AMARILLAS-2/test/images/SEMEFO-DF-Hojas_amarillas_1976-04_abril_pg-343_jpg.rf.6baaeb226d9e67648f8b333166185524.jpg: 416x416 (no detections), 10.2ms\n",
            "image 16/26 /content/drive/MyDrive/tesis/YOLO/Ext-HOJAS-AMARILLAS-2/test/images/SEMEFO-DF-Hojas_amarillas_1976-04_abril_pg-398_jpg.rf.26de0b19613725ff4d885ee9edf90b68.jpg: 416x416 1 Autopsia, 1 Generales, 1 Ingreso, 9.7ms\n",
            "image 17/26 /content/drive/MyDrive/tesis/YOLO/Ext-HOJAS-AMARILLAS-2/test/images/SEMEFO-DF-Hojas_amarillas_1977-10_octubre-A_pg-135_jpg.rf.132f12f3c0e8dde5c7909304bd310a4a.jpg: 416x416 (no detections), 8.3ms\n",
            "image 18/26 /content/drive/MyDrive/tesis/YOLO/Ext-HOJAS-AMARILLAS-2/test/images/SEMEFO-DF-Hojas_amarillas_1977-10_octubre-A_pg-469_jpg.rf.59f1ccadc46b3b9f1bc16abdc626f734.jpg: 416x416 (no detections), 8.5ms\n",
            "image 19/26 /content/drive/MyDrive/tesis/YOLO/Ext-HOJAS-AMARILLAS-2/test/images/SEMEFO-DF-Hojas_amarillas_1977-10_octubre-A_pg-637_jpg.rf.be68e23976e3175c0a270e584a2dcb23.jpg: 416x416 (no detections), 8.2ms\n",
            "image 20/26 /content/drive/MyDrive/tesis/YOLO/Ext-HOJAS-AMARILLAS-2/test/images/SEMEFO-DF-Hojas_amarillas_1977-10_octubre-A_pg-779_jpg.rf.a0e48161daee14515633b6c0cf723190.jpg: 416x416 (no detections), 8.2ms\n",
            "image 21/26 /content/drive/MyDrive/tesis/YOLO/Ext-HOJAS-AMARILLAS-2/test/images/SEMEFO-DF-Hojas_amarillas_1979-04_abril_pg-203_jpg.rf.8f9e77731b156be566fd6763639507d2.jpg: 416x416 1 Autopsia, 1 Generales, 1 Ingreso, 8.7ms\n",
            "image 22/26 /content/drive/MyDrive/tesis/YOLO/Ext-HOJAS-AMARILLAS-2/test/images/SEMEFO-DF-Hojas_amarillas_1979-04_abril_pg-207_jpg.rf.68b59a442cd0abe7fcf0be6b45896ed1.jpg: 416x416 1 Autopsia, 1 Generales, 1 Ingreso, 8.8ms\n",
            "image 23/26 /content/drive/MyDrive/tesis/YOLO/Ext-HOJAS-AMARILLAS-2/test/images/SEMEFO-DF-Hojas_amarillas_1979-04_abril_pg-511_jpg.rf.896f89563023cbfa91e6184443c0564d.jpg: 416x416 1 Autopsia, 1 Generales, 1 Ingreso, 9.5ms\n",
            "image 24/26 /content/drive/MyDrive/tesis/YOLO/Ext-HOJAS-AMARILLAS-2/test/images/SEMEFO-DF-Hojas_amarillas_1980-11_noviembre_pg-142_jpg.rf.8b3d87c7e02cc865ba5529da9d2fefc4.jpg: 416x416 1 Autopsia, 1 Generales, 1 Ingreso, 9.5ms\n",
            "image 25/26 /content/drive/MyDrive/tesis/YOLO/Ext-HOJAS-AMARILLAS-2/test/images/SEMEFO-DF-Hojas_amarillas_1980-11_noviembre_pg-296_jpg.rf.af73e25f81c9f477aa166e620a631a93.jpg: 416x416 1 Autopsia, 1 Generales, 1 Ingreso, 9.2ms\n",
            "image 26/26 /content/drive/MyDrive/tesis/YOLO/Ext-HOJAS-AMARILLAS-2/test/images/SEMEFO-DF-Hojas_amarillas_1980-11_noviembre_pg-460_jpg.rf.902440ef9aa41e753350591c8e8a5309.jpg: 416x416 1 Autopsia, 1 Generales, 1 Ingreso, 8.9ms\n",
            "Speed: 0.4ms pre-process, 9.4ms inference, 0.8ms NMS per image at shape (1, 3, 416, 416)\n",
            "Results saved to \u001b[1myolov5/runs/detect/exp5\u001b[0m\n"
          ]
        }
      ],
      "source": [
        "weight = \"/content/drive/MyDrive/tesis/YOLO/yolov5/runs/train/exp2/weights/best.pt\"\n",
        "detect = \"/content/drive/MyDrive/tesis/YOLO/yolov5/detect.py\"\n",
        "test = \"/content/drive/MyDrive/tesis/YOLO/Ext-HOJAS-AMARILLAS-2/test/images\"\n",
        "!python $detect --weights $weight --img 416 --conf 0.4 --source $test"
      ]
    },
    {
      "cell_type": "code",
      "execution_count": null,
      "metadata": {
        "id": "eVu0X3wMm136"
      },
      "outputs": [],
      "source": []
    }
  ],
  "metadata": {
    "accelerator": "GPU",
    "colab": {
      "provenance": [],
      "mount_file_id": "1AU2orkl4N3ER0bI15w4ZI0NZv82RRjKb",
      "authorship_tag": "ABX9TyPOIQSExq30DloydaBsPxau",
      "include_colab_link": true
    },
    "kernelspec": {
      "display_name": "Python 3",
      "name": "python3"
    },
    "language_info": {
      "name": "python"
    }
  },
  "nbformat": 4,
  "nbformat_minor": 0
}