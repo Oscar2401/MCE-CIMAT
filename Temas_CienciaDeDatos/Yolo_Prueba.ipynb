{
  "cells": [
    {
      "cell_type": "markdown",
      "metadata": {
        "id": "view-in-github",
        "colab_type": "text"
      },
      "source": [
        "<a href=\"https://colab.research.google.com/github/Oscar2401/MCE-CIMAT/blob/main/Temas_CienciaDeDatos/Yolo_Prueba.ipynb\" target=\"_parent\"><img src=\"https://colab.research.google.com/assets/colab-badge.svg\" alt=\"Open In Colab\"/></a>"
      ]
    },
    {
      "cell_type": "markdown",
      "metadata": {
        "id": "WoGshKfaHNU3"
      },
      "source": [
        "# __Instalación__"
      ]
    },
    {
      "cell_type": "markdown",
      "metadata": {
        "id": "XC_yeiFX2Co1"
      },
      "source": [
        "## Instalar YoloV5"
      ]
    },
    {
      "cell_type": "code",
      "execution_count": 3,
      "metadata": {
        "id": "13J9eAPSGqO7",
        "colab": {
          "base_uri": "https://localhost:8080/"
        },
        "outputId": "52afef6a-85da-4c86-d76f-505e1fc1feec"
      },
      "outputs": [
        {
          "output_type": "stream",
          "name": "stdout",
          "text": [
            "Drive already mounted at /content/drive; to attempt to forcibly remount, call drive.mount(\"/content/drive\", force_remount=True).\n"
          ]
        }
      ],
      "source": [
        "# Montamos nuestro entorno a nustra carpeta de Drive\n",
        "from google.colab import drive\n",
        "drive.mount('/content/drive')"
      ]
    },
    {
      "cell_type": "code",
      "execution_count": 4,
      "metadata": {
        "colab": {
          "base_uri": "https://localhost:8080/"
        },
        "id": "rXNt0JnWFSc9",
        "outputId": "abbc3e57-3315-4a92-bd3a-038fe4455378"
      },
      "outputs": [
        {
          "output_type": "stream",
          "name": "stdout",
          "text": [
            "/content/drive/My Drive/tesis/YOLO\n"
          ]
        }
      ],
      "source": [
        "# Nos movemos a la carpeta correspondiente\n",
        "%cd \"/content/drive/My Drive/tesis/YOLO\""
      ]
    },
    {
      "cell_type": "markdown",
      "metadata": {
        "id": "yvVMQpArTMGb"
      },
      "source": [
        "Con el siguiente comando podemos clonar el repositorio de YOLOv5 de GitHub a nuestra carpeta de Drive (Solo correr una vez en un bloque de código)\n",
        "\n",
        "```\n",
        "!git clone https://github.com/ultralytics/yolov5  # clone\n",
        "```"
      ]
    },
    {
      "cell_type": "code",
      "execution_count": 5,
      "metadata": {
        "colab": {
          "base_uri": "https://localhost:8080/"
        },
        "id": "3JAf8N3BG7vW",
        "outputId": "527c5eeb-94ad-4d71-d4a1-234456a7f7bd"
      },
      "outputs": [
        {
          "output_type": "stream",
          "name": "stdout",
          "text": [
            "/content/drive/My Drive/tesis/YOLO/yolov5\n",
            "/content/drive/My Drive/tesis/YOLO\n"
          ]
        }
      ],
      "source": [
        "# Corremos lo siguiente para actualizar y descargar las \n",
        "# librerias requeridas dentr del directorio yolov5\n",
        "%cd \"/content/drive/My Drive/tesis/YOLO/yolov5\"\n",
        "%pip install -qr requirements.txt  # install\n",
        "%cd \"/content/drive/My Drive/tesis/YOLO\""
      ]
    },
    {
      "cell_type": "code",
      "execution_count": 6,
      "metadata": {
        "colab": {
          "base_uri": "https://localhost:8080/"
        },
        "id": "oCPcAjZtHCCi",
        "outputId": "97510e4b-1e5f-475d-8cd8-4717e0f5f18e"
      },
      "outputs": [
        {
          "output_type": "stream",
          "name": "stderr",
          "text": [
            "YOLOv5 🚀 2022-9-16 Python-3.7.14 torch-1.12.1+cu113 CUDA:0 (Tesla T4, 15110MiB)\n"
          ]
        },
        {
          "output_type": "stream",
          "name": "stdout",
          "text": [
            "Setup complete ✅ (2 CPUs, 12.7 GB RAM, 37.6/78.2 GB disk)\n",
            "/content/drive/My Drive/tesis/YOLO\n"
          ]
        }
      ],
      "source": [
        "# Importamos librerias necesarias\n",
        "%cd \"/content/drive/My Drive/tesis/YOLO/yolov5\"\n",
        "import torch\n",
        "import utils\n",
        "display = utils.notebook_init()  # checks\n",
        "%cd \"/content/drive/My Drive/tesis/YOLO\""
      ]
    },
    {
      "cell_type": "code",
      "execution_count": 7,
      "metadata": {
        "colab": {
          "base_uri": "https://localhost:8080/"
        },
        "id": "Nd4sO89D2ONE",
        "outputId": "4a5f8fec-1cd4-45d4-ab16-3444efa516fa"
      },
      "outputs": [
        {
          "output_type": "stream",
          "name": "stdout",
          "text": [
            "torch 1.12.1+cu113 _CudaDeviceProperties(name='Tesla T4', major=7, minor=5, total_memory=15109MB, multi_processor_count=40)\n"
          ]
        }
      ],
      "source": [
        "\n",
        "# Chequeo de dispositivo GPU o CPU\n",
        "print('torch %s %s' % (torch.__version__, \n",
        "                       torch.cuda.get_device_properties(0) if torch.cuda.is_available() else 'CPU'))"
      ]
    },
    {
      "cell_type": "markdown",
      "metadata": {
        "id": "O5S--mIb17in"
      },
      "source": [
        "## Descargar Datos"
      ]
    },
    {
      "cell_type": "code",
      "execution_count": null,
      "metadata": {
        "id": "0tms7nNg2Bvc"
      },
      "outputs": [],
      "source": [
        "!pip install roboflow\n",
        "\n",
        "from roboflow import Roboflow\n",
        "%cd \"/content/drive/My Drive/tesis/YOLO/\"\n",
        "rf = Roboflow(api_key=\"H2INZriXPwrRnfcGorvA\")\n",
        "project = rf.workspace(\"hojasamarillas\").project(\"ext-hojas-amarillas\")\n",
        "dataset = project.version(5).download(\"yolov5\")"
      ]
    },
    {
      "cell_type": "markdown",
      "metadata": {
        "id": "TsTvcLujKLTW"
      },
      "source": [
        "# __Entrenamiento__"
      ]
    },
    {
      "cell_type": "code",
      "execution_count": null,
      "metadata": {
        "id": "SGfnKYiNJNxu"
      },
      "outputs": [],
      "source": [
        "# Dir a código de entrenamiemto en yolov5\n",
        "tarin = \"/content/drive/MyDrive/tesis/YOLO/yolov5/train.py\" \n",
        "# Dir a datos yaml descargados de Roboflow\n",
        "data = \"/content/drive/MyDrive/tesis/YOLO/Ext-HOJAS-AMARILLAS-5/data.yaml\"\n",
        "# Carpeta donde guardaremos resultados\n",
        "output = \"/content/drive/MyDrive/tesis/YOLO/outtrain\"\n",
        "\n",
        "# Corremos entrenamiento\n",
        "!python $tarin --img 640 --batch 16 --epochs 10 --data $data --weights yolov5s.pt --name $output"
      ]
    },
    {
      "cell_type": "markdown",
      "metadata": {
        "id": "qFh9AjVClH2H"
      },
      "source": [
        "# __Prueba__"
      ]
    },
    {
      "cell_type": "code",
      "execution_count": null,
      "metadata": {
        "id": "VJRE5zqblRjf"
      },
      "outputs": [],
      "source": [
        "weight = \"/content/drive/MyDrive/tesis/YOLO/yolov5/runs/train/exp2/weights/best.pt\"\n",
        "detect = \"/content/drive/MyDrive/tesis/YOLO/yolov5/detect.py\"\n",
        "test = \"/content/drive/MyDrive/tesis/YOLO/Ext-HOJAS-AMARILLAS-2/test/images\"\n",
        "!python $detect --weights $weight --img 416 --conf 0.4 --source $test"
      ]
    },
    {
      "cell_type": "code",
      "execution_count": null,
      "metadata": {
        "id": "eVu0X3wMm136"
      },
      "outputs": [],
      "source": []
    }
  ],
  "metadata": {
    "accelerator": "GPU",
    "colab": {
      "provenance": [],
      "mount_file_id": "1AU2orkl4N3ER0bI15w4ZI0NZv82RRjKb",
      "authorship_tag": "ABX9TyNmjoMXFPiu3GM+QPsV++jb",
      "include_colab_link": true
    },
    "kernelspec": {
      "display_name": "Python 3",
      "name": "python3"
    },
    "language_info": {
      "name": "python"
    }
  },
  "nbformat": 4,
  "nbformat_minor": 0
}