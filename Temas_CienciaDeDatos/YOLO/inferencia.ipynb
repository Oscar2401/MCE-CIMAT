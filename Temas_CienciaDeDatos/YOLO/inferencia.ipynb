{
 "cells": [
  {
   "cell_type": "code",
   "execution_count": 26,
   "id": "5087e3ac",
   "metadata": {},
   "outputs": [
    {
     "name": "stderr",
     "output_type": "stream",
     "text": [
      "YOLOv5 🚀 v6.2-183-gc98128f Python-3.8.10 torch-1.12.1+cu102 CUDA:0 (Quadro RTX 5000 with Max-Q Design, 16125MiB)\n"
     ]
    },
    {
     "name": "stdout",
     "output_type": "stream",
     "text": [
      "Setup complete ✅ (12 CPUs, 125.4 GB RAM, 81.9/937.3 GB disk)\n",
      "/home/victor-cimat/tesis/YOLO\n"
     ]
    }
   ],
   "source": [
    "%cd \"/home/victor-cimat/tesis/YOLO/yolov5\"\n",
    "import torch\n",
    "import utils\n",
    "display = utils.notebook_init()  # checks\n",
    "%cd \"/home/victor-cimat/tesis/YOLO\""
   ]
  },
  {
   "cell_type": "code",
   "execution_count": 27,
   "id": "bcb0ede3",
   "metadata": {},
   "outputs": [
    {
     "name": "stdout",
     "output_type": "stream",
     "text": [
      "torch 1.12.1+cu102 _CudaDeviceProperties(name='Quadro RTX 5000 with Max-Q Design', major=7, minor=5, total_memory=16125MB, multi_processor_count=48)\n"
     ]
    }
   ],
   "source": [
    "print('torch %s %s' % (torch.__version__, \n",
    "                       torch.cuda.get_device_properties(0) if torch.cuda.is_available() else 'CPU'))"
   ]
  },
  {
   "cell_type": "code",
   "execution_count": 28,
   "id": "fdae85e4",
   "metadata": {},
   "outputs": [
    {
     "data": {
      "text/plain": [
       "True"
      ]
     },
     "execution_count": 28,
     "metadata": {},
     "output_type": "execute_result"
    }
   ],
   "source": [
    "torch.cuda.is_available()"
   ]
  },
  {
   "cell_type": "code",
   "execution_count": 29,
   "id": "cf973b34",
   "metadata": {},
   "outputs": [],
   "source": [
    "# Dir a código de entrenamiemto en yolov5\n",
    "detect = \"/home/victor-cimat/tesis/YOLO/yolov5/detect.py\" \n",
    "# Dir a datos yaml descargados de Roboflow\n",
    "imagen = \"/home/victor-cimat/tesis/YOLO/prueba_img/prueba_img_1.jpg\"\n",
    "# Carpeta donde guardaremos resultados\n",
    "output = \"/home/victor-cimat/tesis/YOLO/infer_img/\"\n",
    "pesos = \"/home/victor-cimat/tesis/YOLO/outtrain/weights/best.pt\""
   ]
  },
  {
   "cell_type": "code",
   "execution_count": 30,
   "id": "928383e6",
   "metadata": {},
   "outputs": [
    {
     "name": "stdout",
     "output_type": "stream",
     "text": [
      "\u001b[34m\u001b[1mdetect: \u001b[0mweights=['/home/victor-cimat/tesis/YOLO/outtrain/weights/best.pt'], source=/home/victor-cimat/tesis/YOLO/prueba_img/prueba_img_1.jpg, data=yolov5/data/coco128.yaml, imgsz=[832, 832], conf_thres=0.25, iou_thres=0.45, max_det=1000, device=, view_img=False, save_txt=False, save_conf=False, save_crop=False, nosave=False, classes=None, agnostic_nms=False, augment=True, visualize=False, update=False, project=yolov5/runs/detect, name=/home/victor-cimat/tesis/YOLO/infer_img/, exist_ok=False, line_thickness=3, hide_labels=False, hide_conf=False, half=False, dnn=False, vid_stride=1\n",
      "/usr/local/lib/python3.8/dist-packages/torch/cuda/__init__.py:83: UserWarning: CUDA initialization: CUDA unknown error - this may be due to an incorrectly set up environment, e.g. changing env variable CUDA_VISIBLE_DEVICES after program start. Setting the available devices to be zero. (Triggered internally at  ../c10/cuda/CUDAFunctions.cpp:109.)\n",
      "  return torch._C._cuda_getDeviceCount() > 0\n",
      "YOLOv5 🚀 v6.2-183-gc98128f Python-3.8.10 torch-1.12.1+cu102 CPU\n",
      "\n",
      "Fusing layers... \n",
      "YOLOv5x summary: 322 layers, 86193601 parameters, 0 gradients, 203.8 GFLOPs\n",
      "image 1/1 /home/victor-cimat/tesis/YOLO/prueba_img/prueba_img_1.jpg: 640x832 1 Autopsia, 1 Generales, 1 Ingreso, 1 NoExp, 1335.3ms\n",
      "Speed: 0.7ms pre-process, 1335.3ms inference, 12.7ms NMS per image at shape (1, 3, 832, 832)\n",
      "Results saved to \u001b[1m/home/victor-cimat/tesis/YOLO/infer_img3\u001b[0m\n"
     ]
    }
   ],
   "source": [
    "!python3 $detect --weights $pesos --img 832 --source $imagen --augment --name $output\n"
   ]
  },
  {
   "cell_type": "code",
   "execution_count": null,
   "id": "ab589ba7",
   "metadata": {},
   "outputs": [],
   "source": []
  },
  {
   "cell_type": "code",
   "execution_count": null,
   "id": "946866b1",
   "metadata": {},
   "outputs": [],
   "source": []
  },
  {
   "cell_type": "code",
   "execution_count": null,
   "id": "f4ac0b2d",
   "metadata": {},
   "outputs": [],
   "source": []
  },
  {
   "cell_type": "code",
   "execution_count": null,
   "id": "90d5b8cd",
   "metadata": {},
   "outputs": [],
   "source": [
    "!python val.py --weights yolov5x.pt --data coco.yaml --img 640 --half\n"
   ]
  }
 ],
 "metadata": {
  "kernelspec": {
   "display_name": "Python 3 (ipykernel)",
   "language": "python",
   "name": "python3"
  },
  "language_info": {
   "codemirror_mode": {
    "name": "ipython",
    "version": 3
   },
   "file_extension": ".py",
   "mimetype": "text/x-python",
   "name": "python",
   "nbconvert_exporter": "python",
   "pygments_lexer": "ipython3",
   "version": "3.8.10"
  }
 },
 "nbformat": 4,
 "nbformat_minor": 5
}
